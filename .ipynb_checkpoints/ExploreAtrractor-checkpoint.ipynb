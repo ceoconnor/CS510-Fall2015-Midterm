{
 "cells": [
  {
   "cell_type": "code",
   "execution_count": 43,
   "metadata": {
    "collapsed": false
   },
   "outputs": [],
   "source": [
    "import numpy as np\n",
    "import matplotlib.pyplot as plt\n",
    "from mpl_toolkits.mplot3d import Axes3D\n",
    "import pandas as pd\n",
    "%matplotlib inline\n",
    "\n",
    "class Attractor(object):\n",
    "    \n",
    "    def __init__(self, s=10.0, p=28.0, b=(8.0/3.0), start=0.0, end=80.0, points=10000):\n",
    "        self.s = s\n",
    "        self.p = p\n",
    "        self.b = b\n",
    "        self.params = np.array([self.s, self.p, self.b])\n",
    "        self.start = start\n",
    "        self.end = end\n",
    "        self.points = points\n",
    "        self.t = np.linspace(self.start, self.end, self.points)\n",
    "        self.dt = (self.end - self.start)/self.points\n",
    "    \n",
    "    def euler(self, a = np.array([]), dt = 0):\n",
    "        if dt == 0:\n",
    "            dt = self.dt\n",
    "        x = a[0]\n",
    "        y = a[1]\n",
    "        z = a[2]\n",
    "        dx = self.params[0] * (y - x)\n",
    "        dy = x * (self.params[1] - z) - y\n",
    "        dz = (x * y) - (self.params[2] * z)\n",
    "        xdt = x + (dx * self.dt)\n",
    "        ydt = y + (dy * self.dt)\n",
    "        zdt = z + (dz * self.dt)\n",
    "        return np.array([xdt, ydt, zdt])\n",
    "        \n",
    "    def rk2(self, b = np.array([])):\n",
    "        dt = self.dt / 2.0\n",
    "        rk1 = self.euler(b)\n",
    "        x1 = b[0] + rk1[0] * new_dt\n",
    "        y1 = b[1] + rk1[1] * new_dt\n",
    "        z1 = b[2] + rk1[2] * new_dt\n",
    "        return self.euler(np.array([x1, y1, z1]), dt)\n",
    "        \n",
    "              \n",
    "    def rk3(self, c = np.array([])):\n",
    "        dt = self.dt / 2.0\n",
    "        rk2 = self.rk1(c)\n",
    "        x2 = c[0] + rk2[0] * new_dt\n",
    "        y2 = c[1] + rk2[1] * new_dt\n",
    "        z2 = c[2] + rk2[2] * new_dt\n",
    "        return self.euler(np.array([x2, y2, z2]), dt)\n",
    "        \n",
    "    def rk4(self, d = np.array([])):\n",
    "        dt = self.dt\n",
    "        dt = self.dt\n",
    "        dt = self.dt\n",
    "        rk3 = self.rk2(d)\n",
    "        x3 = d[0] + rk3[0] * self.dt\n",
    "        y3 = d[1] + rk3[1] * self.dt\n",
    "        z3 = d[2] + rk3[2] * self.dt\n",
    "        return self.euler(np.array([x3, y3, z3]), dt)\n",
    "        \n",
    "                            \n",
    "    def evolve(self, r0 = np.array([0.1, 0.0, 0.0]), order=1):\n",
    "        if order == 1:\n",
    "            sol = self.euler(r0)\n",
    "        elif order == 2:\n",
    "            sol = self.rk2(r0)\n",
    "        elif order == 4:\n",
    "            sol = self.rk4(r0)\n",
    "        else:\n",
    "            return 'Uh oh'\n",
    "        \n",
    "        self.solution = pd.DataFrame(sol, columns=['t','x','y','z'])\n",
    "        return self.solution\n",
    "        \n",
    "    def save(self):\n",
    "        self.solution.to_csv(\"export.csv\")\n",
    "        \n",
    "    def plotx(self):\n",
    "        plt.plot(self.solution['x'], color='k')\n",
    "        plt.title(\"Plot tx\")\n",
    "        plt.tlabel(\"t\")\n",
    "        plt.xlabel(\"X\")\n",
    "        \n",
    "        \n",
    "    def ploty(self):\n",
    "        plt.plot(self.solution['y'], color='k')\n",
    "        plt.title(\"Plot ty\")\n",
    "        plt.tlabel(\"t\")\n",
    "        plt.ylabel(\"Y\")\n",
    "        \n",
    "    def plotz(self):\n",
    "        plt.plot(self.solution['z'], color='k')\n",
    "        plt.title(\"Plot tz\")\n",
    "        plt.tlabel(\"t\")\n",
    "        plt.zlabel(\"Z\")\n",
    "        \n",
    "    def plotxy(self):\n",
    "        plt.plot(self.solution['x'], self.solution['y'], color='k')\n",
    "        plt.title(\"Plot xy\")\n",
    "        plt.xlabel(\"X\")\n",
    "        plt.ylabel(\"Y\")\n",
    "        \n",
    "    def plotyz(self):\n",
    "        plt.plot(self.solution['y'], self.solution['z'], color='k')\n",
    "        plt.title(\"Plot yz\")\n",
    "        plt.ylabel(\"Y\")\n",
    "        plt.zlabel(\"Z\")\n",
    "        \n",
    "    def plotzx(self):\n",
    "        plt.plot(self.solution['z'], self.solution['x'], color='k')\n",
    "        plt.title(\"Plot zx\")\n",
    "        plt.zlabel(\"Z\")\n",
    "        plt.xlabel(\"X\")\n",
    "    \n",
    "    def plot3d(self):\n",
    "        fig = plt.figure()\n",
    "        ax = fig.gca(projection='3d')\n",
    "\n",
    "        ax.plot(self.solution['x'], self.solution['y'], self.solution['z'])\n",
    "        ax.set_xlabel(\"X Axis\")\n",
    "        ax.set_ylabel(\"Y Axis\")\n",
    "        ax.set_zlabel(\"Z Axis\")\n",
    "        ax.set_title(\"Lorenz Attractor\")\n",
    "\n",
    "        plt.show()\n"
   ]
  },
  {
   "cell_type": "code",
   "execution_count": 44,
   "metadata": {
    "collapsed": false,
    "scrolled": false
   },
   "outputs": [
    {
     "ename": "ValueError",
     "evalue": "Shape of passed values is (1, 3), indices imply (4, 3)",
     "output_type": "error",
     "traceback": [
      "\u001b[1;31m---------------------------------------------------------------------------\u001b[0m",
      "\u001b[1;31mValueError\u001b[0m                                Traceback (most recent call last)",
      "\u001b[1;32m<ipython-input-44-6d6328fd0999>\u001b[0m in \u001b[0;36m<module>\u001b[1;34m()\u001b[0m\n\u001b[0;32m      1\u001b[0m \u001b[0ma\u001b[0m \u001b[1;33m=\u001b[0m \u001b[0mAttractor\u001b[0m\u001b[1;33m(\u001b[0m\u001b[1;33m)\u001b[0m\u001b[1;33m\u001b[0m\u001b[0m\n\u001b[1;32m----> 2\u001b[1;33m \u001b[0ma\u001b[0m\u001b[1;33m.\u001b[0m\u001b[0mevolve\u001b[0m\u001b[1;33m(\u001b[0m\u001b[0morder\u001b[0m\u001b[1;33m=\u001b[0m\u001b[1;36m1\u001b[0m\u001b[1;33m)\u001b[0m\u001b[1;33m\u001b[0m\u001b[0m\n\u001b[0m\u001b[0;32m      3\u001b[0m \u001b[0ma\u001b[0m\u001b[1;33m.\u001b[0m\u001b[0mplot3d\u001b[0m\u001b[1;33m(\u001b[0m\u001b[1;33m)\u001b[0m\u001b[1;33m\u001b[0m\u001b[0m\n",
      "\u001b[1;32m<ipython-input-43-0104f5dd249a>\u001b[0m in \u001b[0;36mevolve\u001b[1;34m(self, r0, order)\u001b[0m\n\u001b[0;32m     70\u001b[0m             \u001b[1;32mreturn\u001b[0m \u001b[1;34m'Uh oh'\u001b[0m\u001b[1;33m\u001b[0m\u001b[0m\n\u001b[0;32m     71\u001b[0m \u001b[1;33m\u001b[0m\u001b[0m\n\u001b[1;32m---> 72\u001b[1;33m         \u001b[0mself\u001b[0m\u001b[1;33m.\u001b[0m\u001b[0msolution\u001b[0m \u001b[1;33m=\u001b[0m \u001b[0mpd\u001b[0m\u001b[1;33m.\u001b[0m\u001b[0mDataFrame\u001b[0m\u001b[1;33m(\u001b[0m\u001b[0msol\u001b[0m\u001b[1;33m,\u001b[0m \u001b[0mcolumns\u001b[0m\u001b[1;33m=\u001b[0m\u001b[1;33m[\u001b[0m\u001b[1;34m't'\u001b[0m\u001b[1;33m,\u001b[0m\u001b[1;34m'x'\u001b[0m\u001b[1;33m,\u001b[0m\u001b[1;34m'y'\u001b[0m\u001b[1;33m,\u001b[0m\u001b[1;34m'z'\u001b[0m\u001b[1;33m]\u001b[0m\u001b[1;33m)\u001b[0m\u001b[1;33m\u001b[0m\u001b[0m\n\u001b[0m\u001b[0;32m     73\u001b[0m         \u001b[1;32mreturn\u001b[0m \u001b[0mself\u001b[0m\u001b[1;33m.\u001b[0m\u001b[0msolution\u001b[0m\u001b[1;33m\u001b[0m\u001b[0m\n\u001b[0;32m     74\u001b[0m \u001b[1;33m\u001b[0m\u001b[0m\n",
      "\u001b[1;32m/projects/sage/sage-6.9/local/lib/python2.7/site-packages/pandas/core/frame.py\u001b[0m in \u001b[0;36m__init__\u001b[1;34m(self, data, index, columns, dtype, copy)\u001b[0m\n\u001b[0;32m    243\u001b[0m             \u001b[1;32melse\u001b[0m\u001b[1;33m:\u001b[0m\u001b[1;33m\u001b[0m\u001b[0m\n\u001b[0;32m    244\u001b[0m                 mgr = self._init_ndarray(data, index, columns, dtype=dtype,\n\u001b[1;32m--> 245\u001b[1;33m                                          copy=copy)\n\u001b[0m\u001b[0;32m    246\u001b[0m         \u001b[1;32melif\u001b[0m \u001b[0misinstance\u001b[0m\u001b[1;33m(\u001b[0m\u001b[0mdata\u001b[0m\u001b[1;33m,\u001b[0m \u001b[1;33m(\u001b[0m\u001b[0mlist\u001b[0m\u001b[1;33m,\u001b[0m \u001b[0mtypes\u001b[0m\u001b[1;33m.\u001b[0m\u001b[0mGeneratorType\u001b[0m\u001b[1;33m)\u001b[0m\u001b[1;33m)\u001b[0m\u001b[1;33m:\u001b[0m\u001b[1;33m\u001b[0m\u001b[0m\n\u001b[0;32m    247\u001b[0m             \u001b[1;32mif\u001b[0m \u001b[0misinstance\u001b[0m\u001b[1;33m(\u001b[0m\u001b[0mdata\u001b[0m\u001b[1;33m,\u001b[0m \u001b[0mtypes\u001b[0m\u001b[1;33m.\u001b[0m\u001b[0mGeneratorType\u001b[0m\u001b[1;33m)\u001b[0m\u001b[1;33m:\u001b[0m\u001b[1;33m\u001b[0m\u001b[0m\n",
      "\u001b[1;32m/projects/sage/sage-6.9/local/lib/python2.7/site-packages/pandas/core/frame.py\u001b[0m in \u001b[0;36m_init_ndarray\u001b[1;34m(self, values, index, columns, dtype, copy)\u001b[0m\n\u001b[0;32m    410\u001b[0m             \u001b[0mvalues\u001b[0m \u001b[1;33m=\u001b[0m \u001b[0m_possibly_infer_to_datetimelike\u001b[0m\u001b[1;33m(\u001b[0m\u001b[0mvalues\u001b[0m\u001b[1;33m)\u001b[0m\u001b[1;33m\u001b[0m\u001b[0m\n\u001b[0;32m    411\u001b[0m \u001b[1;33m\u001b[0m\u001b[0m\n\u001b[1;32m--> 412\u001b[1;33m         \u001b[1;32mreturn\u001b[0m \u001b[0mcreate_block_manager_from_blocks\u001b[0m\u001b[1;33m(\u001b[0m\u001b[1;33m[\u001b[0m\u001b[0mvalues\u001b[0m\u001b[1;33m]\u001b[0m\u001b[1;33m,\u001b[0m \u001b[1;33m[\u001b[0m\u001b[0mcolumns\u001b[0m\u001b[1;33m,\u001b[0m \u001b[0mindex\u001b[0m\u001b[1;33m]\u001b[0m\u001b[1;33m)\u001b[0m\u001b[1;33m\u001b[0m\u001b[0m\n\u001b[0m\u001b[0;32m    413\u001b[0m \u001b[1;33m\u001b[0m\u001b[0m\n\u001b[0;32m    414\u001b[0m     \u001b[1;33m@\u001b[0m\u001b[0mproperty\u001b[0m\u001b[1;33m\u001b[0m\u001b[0m\n",
      "\u001b[1;32m/projects/sage/sage-6.9/local/lib/python2.7/site-packages/pandas/core/internals.py\u001b[0m in \u001b[0;36mcreate_block_manager_from_blocks\u001b[1;34m(blocks, axes)\u001b[0m\n\u001b[0;32m   3548\u001b[0m         \u001b[0mblocks\u001b[0m \u001b[1;33m=\u001b[0m \u001b[1;33m[\u001b[0m\u001b[0mgetattr\u001b[0m\u001b[1;33m(\u001b[0m\u001b[0mb\u001b[0m\u001b[1;33m,\u001b[0m \u001b[1;34m'values'\u001b[0m\u001b[1;33m,\u001b[0m \u001b[0mb\u001b[0m\u001b[1;33m)\u001b[0m \u001b[1;32mfor\u001b[0m \u001b[0mb\u001b[0m \u001b[1;32min\u001b[0m \u001b[0mblocks\u001b[0m\u001b[1;33m]\u001b[0m\u001b[1;33m\u001b[0m\u001b[0m\n\u001b[0;32m   3549\u001b[0m         \u001b[0mtot_items\u001b[0m \u001b[1;33m=\u001b[0m \u001b[0msum\u001b[0m\u001b[1;33m(\u001b[0m\u001b[0mb\u001b[0m\u001b[1;33m.\u001b[0m\u001b[0mshape\u001b[0m\u001b[1;33m[\u001b[0m\u001b[1;36m0\u001b[0m\u001b[1;33m]\u001b[0m \u001b[1;32mfor\u001b[0m \u001b[0mb\u001b[0m \u001b[1;32min\u001b[0m \u001b[0mblocks\u001b[0m\u001b[1;33m)\u001b[0m\u001b[1;33m\u001b[0m\u001b[0m\n\u001b[1;32m-> 3550\u001b[1;33m         \u001b[0mconstruction_error\u001b[0m\u001b[1;33m(\u001b[0m\u001b[0mtot_items\u001b[0m\u001b[1;33m,\u001b[0m \u001b[0mblocks\u001b[0m\u001b[1;33m[\u001b[0m\u001b[1;36m0\u001b[0m\u001b[1;33m]\u001b[0m\u001b[1;33m.\u001b[0m\u001b[0mshape\u001b[0m\u001b[1;33m[\u001b[0m\u001b[1;36m1\u001b[0m\u001b[1;33m:\u001b[0m\u001b[1;33m]\u001b[0m\u001b[1;33m,\u001b[0m \u001b[0maxes\u001b[0m\u001b[1;33m,\u001b[0m \u001b[0me\u001b[0m\u001b[1;33m)\u001b[0m\u001b[1;33m\u001b[0m\u001b[0m\n\u001b[0m\u001b[0;32m   3551\u001b[0m \u001b[1;33m\u001b[0m\u001b[0m\n\u001b[0;32m   3552\u001b[0m \u001b[1;33m\u001b[0m\u001b[0m\n",
      "\u001b[1;32m/projects/sage/sage-6.9/local/lib/python2.7/site-packages/pandas/core/internals.py\u001b[0m in \u001b[0;36mconstruction_error\u001b[1;34m(tot_items, block_shape, axes, e)\u001b[0m\n\u001b[0;32m   3525\u001b[0m         \u001b[1;32mraise\u001b[0m \u001b[0me\u001b[0m\u001b[1;33m\u001b[0m\u001b[0m\n\u001b[0;32m   3526\u001b[0m     raise ValueError(\"Shape of passed values is {0}, indices imply {1}\".format(\n\u001b[1;32m-> 3527\u001b[1;33m         passed,implied))\n\u001b[0m\u001b[0;32m   3528\u001b[0m \u001b[1;33m\u001b[0m\u001b[0m\n\u001b[0;32m   3529\u001b[0m \u001b[1;33m\u001b[0m\u001b[0m\n",
      "\u001b[1;31mValueError\u001b[0m: Shape of passed values is (1, 3), indices imply (4, 3)"
     ]
    }
   ],
   "source": [
    "a = Attractor()\n",
    "a.evolve(order=1)\n",
    "a.plot3d()\n"
   ]
  },
  {
   "cell_type": "code",
   "execution_count": 3,
   "metadata": {
    "collapsed": false
   },
   "outputs": [
    {
     "name": "stdout",
     "output_type": "stream",
     "text": [
      "10000000 loops, best of 3: 50.8 ns per loop\n"
     ]
    }
   ],
   "source": [
    "%timeit Attractor\n"
   ]
  },
  {
   "cell_type": "code",
   "execution_count": 4,
   "metadata": {
    "collapsed": false
   },
   "outputs": [
    {
     "name": "stdout",
     "output_type": "stream",
     "text": [
      "CPU times: user 0 ns, sys: 0 ns, total: 0 ns\n",
      "Wall time: 7.15 µs\n"
     ]
    },
    {
     "data": {
      "text/plain": [
       "__main__.Attractor"
      ]
     },
     "execution_count": 4,
     "metadata": {},
     "output_type": "execute_result"
    }
   ],
   "source": [
    "%time Attractor"
   ]
  },
  {
   "cell_type": "code",
   "execution_count": null,
   "metadata": {
    "collapsed": true
   },
   "outputs": [],
   "source": []
  },
  {
   "cell_type": "code",
   "execution_count": null,
   "metadata": {
    "collapsed": true
   },
   "outputs": [],
   "source": []
  }
 ],
 "metadata": {
  "kernelspec": {
   "display_name": "Python 2",
   "language": "python",
   "name": "python2"
  },
  "language_info": {
   "codemirror_mode": {
    "name": "ipython",
    "version": 2
   },
   "file_extension": ".py",
   "mimetype": "text/x-python",
   "name": "python",
   "nbconvert_exporter": "python",
   "pygments_lexer": "ipython2",
   "version": "2.7.9"
  },
  "name": "ExploreAtrractor.ipynb"
 },
 "nbformat": 4,
 "nbformat_minor": 0
}
